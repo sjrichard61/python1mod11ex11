{
 "cells": [
  {
   "cell_type": "markdown",
   "metadata": {},
   "source": [
    "### Exercise 1\n",
    "Create a multiplication table from 1 to 10"
   ]
  },
  {
   "cell_type": "code",
   "execution_count": 99,
   "metadata": {},
   "outputs": [
    {
     "name": "stdout",
     "output_type": "stream",
     "text": [
      "   Ones           Twos           Threes         Fours          Fives          Sixes          Sevens         Eights         Nines          Tens         \n",
      "1 X 1 =   1    2 X 1 =   2    3 X 1 =   3    4 X 1 =   4    5 X 1 =   5    6 X 1 =   6    7 X 1 =   7    8 X 1 =   8    9 X 1 =   9    10 X 1 =   10   \n",
      "1 X 2 =   2    2 X 2 =   4    3 X 2 =   6    4 X 2 =   8    5 X 2 =   10   6 X 2 =   12   7 X 2 =   14   8 X 2 =   16   9 X 2 =   18   10 X 2 =   20   \n",
      "1 X 3 =   3    2 X 3 =   6    3 X 3 =   9    4 X 3 =   12   5 X 3 =   15   6 X 3 =   18   7 X 3 =   21   8 X 3 =   24   9 X 3 =   27   10 X 3 =   30   \n",
      "1 X 4 =   4    2 X 4 =   8    3 X 4 =   12   4 X 4 =   16   5 X 4 =   20   6 X 4 =   24   7 X 4 =   28   8 X 4 =   32   9 X 4 =   36   10 X 4 =   40   \n",
      "1 X 5 =   5    2 X 5 =   10   3 X 5 =   15   4 X 5 =   20   5 X 5 =   25   6 X 5 =   30   7 X 5 =   35   8 X 5 =   40   9 X 5 =   45   10 X 5 =   50   \n",
      "1 X 6 =   6    2 X 6 =   12   3 X 6 =   18   4 X 6 =   24   5 X 6 =   30   6 X 6 =   36   7 X 6 =   42   8 X 6 =   48   9 X 6 =   54   10 X 6 =   60   \n",
      "1 X 7 =   7    2 X 7 =   14   3 X 7 =   21   4 X 7 =   28   5 X 7 =   35   6 X 7 =   42   7 X 7 =   49   8 X 7 =   56   9 X 7 =   63   10 X 7 =   70   \n",
      "1 X 8 =   8    2 X 8 =   16   3 X 8 =   24   4 X 8 =   32   5 X 8 =   40   6 X 8 =   48   7 X 8 =   56   8 X 8 =   64   9 X 8 =   72   10 X 8 =   80   \n",
      "1 X 9 =   9    2 X 9 =   18   3 X 9 =   27   4 X 9 =   36   5 X 9 =   45   6 X 9 =   54   7 X 9 =   63   8 X 9 =   72   9 X 9 =   81   10 X 9 =   90   \n",
      "1 X 10 =  10   2 X 10 =  20   3 X 10 =  30   4 X 10 =  40   5 X 10 =  50   6 X 10 =  60   7 X 10 =  70   8 X 10 =  80   9 X 10 =  90   10 X 10 =  100    \n"
     ]
    }
   ],
   "source": [
    "table_label = (\"Ones\", \"Twos\", \"Threes\", \"Fours\", \"Fives\", \"Sixes\", \"Sevens\", \"Eights\", \"Nines\", \"Tens\")\n",
    "for a in table_label :\n",
    "    print(f\"   {a}\", end = \" \"*(12 - len(a)))\n",
    "else :\n",
    "    print(\" \")\n",
    "for i in range (1,11) :\n",
    "    for n in range (1,11) :\n",
    "        print (f\"{n} X {i} =\",\" \"*(len(str(i))%2), i*n, end=\" \"*(len(str(i*n))%2+3))\n",
    "    else :\n",
    "        print(f\"\")"
   ]
  },
  {
   "cell_type": "markdown",
   "metadata": {},
   "source": [
    "### Exercise 2\n",
    "Write a program to find the Fibonacci numbers where each number is the sum of the two preceding ones, starting from 0 and 1. \n",
    "\n",
    "    e.g.\n",
    "    0, 1, 1, 2, 3, 5, 8, ...\n",
    "    \n",
    "Ask a user to enter a number. Next, generate user specified number of Fibonacci numbers into a list. Then print out the list. The output should look something like this:\n",
    "\n",
    "    How many Fibonacci numbers would you like to generate? 10    \n",
    "    10 Fibonacci numbers are [0, 1, 1, 2, 3, 5, 8, 13, 21, 34]."
   ]
  },
  {
   "cell_type": "code",
   "execution_count": 23,
   "metadata": {},
   "outputs": [
    {
     "name": "stdin",
     "output_type": "stream",
     "text": [
      "How many Fibonacci numbers would you like to generate? 10\n"
     ]
    },
    {
     "name": "stdout",
     "output_type": "stream",
     "text": [
      "10 Fibonacci numbers are  [0, 1, 1, 2, 3, 5, 8, 13, 21, 34]\n"
     ]
    }
   ],
   "source": [
    "num = int(input(\"How many Fibonacci numbers would you like to generate?\"))\n",
    "counter = 0\n",
    "fibo = [0,1]\n",
    "while counter <= num-3 :\n",
    "    sum = int(fibo[counter]) + int(fibo[counter+1])\n",
    "    fibo.append(sum)\n",
    "    counter += 1\n",
    "else :\n",
    "    print(f\"{num} Fibonacci numbers are \",fibo)\n",
    "\n"
   ]
  },
  {
   "cell_type": "code",
   "execution_count": null,
   "metadata": {},
   "outputs": [],
   "source": []
  }
 ],
 "metadata": {
  "kernelspec": {
   "display_name": "Python 3 (ipykernel)",
   "language": "python",
   "name": "python3"
  },
  "language_info": {
   "codemirror_mode": {
    "name": "ipython",
    "version": 3
   },
   "file_extension": ".py",
   "mimetype": "text/x-python",
   "name": "python",
   "nbconvert_exporter": "python",
   "pygments_lexer": "ipython3",
   "version": "3.11.7"
  }
 },
 "nbformat": 4,
 "nbformat_minor": 4
}
